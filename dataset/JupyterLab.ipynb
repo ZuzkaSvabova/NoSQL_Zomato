{
 "cells": [
  {
   "cell_type": "markdown",
   "id": "09afda73",
   "metadata": {},
   "source": [
    "import pandas as pd\n",
    "import numpy as np\n",
    "import matplotlib.pyplot as plt\n",
    "import seaborn as sns\n",
    "\n",
    "users = pd.read_csv(\"dataset/users.json\")\n",
    "restaurants = pd.read_csv(\"dataset/restaurants.json\")\n",
    "orders = pd.read_csv(\"dataset/orders.json\")"
   ]
  },
  {
   "cell_type": "code",
   "execution_count": null,
   "id": "7e4dc943",
   "metadata": {},
   "outputs": [],
   "source": [
    "print(\"🔹 Rozsah a velikost vzorků:\")\n",
    "for name, df in [\n",
    "    ('Restaurants', restaurants),\n",
    "    ('Orders',      orders),\n",
    "    ('Users',       users_sample)\n",
    "]:\n",
    "    print(f\"{name}: {df.shape[0]} řádků, {df.shape[1]} sloupců\")"
   ]
  },
  {
   "cell_type": "code",
   "execution_count": null,
   "id": "09d1c73b",
   "metadata": {},
   "outputs": [],
   "source": [
    "print(\"\\n🔹 Počet prázdných hodnot na sloupec:\")\n",
    "for name, df in [\n",
    "    ('Restaurants', restaurants),\n",
    "    ('Orders',      orders),\n",
    "    ('Users',       users)\n",
    "]:\n",
    "    print(f\"\\n{name}:\")\n",
    "    print(df.isnull().sum())"
   ]
  },
  {
   "cell_type": "code",
   "execution_count": null,
   "id": "43b7de01",
   "metadata": {},
   "outputs": [],
   "source": [
    "print(\"\\n🔹 Základní statistiky:\")\n",
    "for name, df in [\n",
    "    ('Restaurants', restaurants),\n",
    "    ('Orders',      orders),\n",
    "    ('Users',       users)\n",
    "]:\n",
    "    print(f\"\\n{name} (describe):\")\n",
    "    print(df.describe(include='all'))"
   ]
  }
 ],
 "metadata": {
  "kernelspec": {
   "display_name": ".venv",
   "language": "python",
   "name": "python3"
  },
  "language_info": {
   "codemirror_mode": {
    "name": "ipython",
    "version": 3
   },
   "file_extension": ".py",
   "mimetype": "text/x-python",
   "name": "python",
   "nbconvert_exporter": "python",
   "pygments_lexer": "ipython3",
   "version": "3.12.3"
  }
 },
 "nbformat": 4,
 "nbformat_minor": 5
}
